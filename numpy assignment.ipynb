{
 "cells": [
  {
   "cell_type": "code",
   "execution_count": 1,
   "metadata": {},
   "outputs": [],
   "source": [
    "# 1. Explain the purpose and advantages of NumPy in scientific computing and data analysis. How does it\n",
    "# enhance Python's capabilities for numerical operations?\n",
    "\n",
    "# 2. Compare and contrast np.mean() and np.average() functions in NumPy. When would you use one over the\n",
    "# other?\n",
    "\n",
    "# 3. Describe the methods for reversing a NumPy array along different axes. Provide examples for 1D and 2D\n",
    "# arrays.\n",
    "\n",
    "# 4. How can you determine the data type of elements in a NumPy array? Discuss the importance of data types\n",
    "# in memory management and performance.\n",
    "\n",
    "# 5. Define ndarrays in NumPy and explain their key features. How do they differ from standard Python lists?\n",
    "\n",
    "# 6. Analyze the performance benefits of NumPy arrays over Python lists for large-scale numerical operations.\n",
    "\n",
    "# 7. Compare vstack() and hstack() functions in NumPy. Provide examples demonstrating their usage and\n",
    "# output.\n",
    "\n",
    "# 8. Explain the differences between fliplr() and flipud() methods in NumPy, including their effects on various\n",
    "# array dimensions.\n",
    "\n",
    "# 9. Discuss the functionality of the array_split() method in NumPy. How does it handle uneven splits?\n",
    "\n",
    "# 10. Explain the concepts of vectorization and broadcasting in NumPy. How do they contribute to efficient array\n",
    "# operations?\n",
    "\n",
    "# Practical Questions:\n",
    "# 1. Create a 3x3 NumPy array with random integers between 1 and 100. Then, interchange its rows and columns.\n",
    "\n",
    "# 2. Generate a 1D NumPy array with 10 elements. Reshape it into a 2x5 array, then into a 5x2 array.\n",
    "\n",
    "# 3. Create a 4x4 NumPy array with random float values. Add a border of zeros around it, resulting in a 6x6 array.\n",
    "\n",
    "# 4. Using NumPy, create an array of integers from 10 to 60 with a step of 5.\n",
    "\n",
    "# 5. Create a NumPy array of strings ['python', 'numpy', 'pandas']. Apply different case transformations\n",
    "# (uppercase, lowercase, title case, etc.) to each element.\n",
    "\n",
    "# 6. Generate a NumPy array of words. Insert a space between each character of every word in the array.\n",
    "\n",
    "# 7. Create two 2D NumPy arrays and perform element-wise addition, subtraction, multiplication, and division.\n",
    "\n",
    "# 8. Use NumPy to create a 5x5 identity matrix, then extract its diagonal elements.\n",
    "\n",
    "# 9. Generate a NumPy array of 100 random integers between 0 and 1000. Find and display all prime numbers in\n",
    "# this array.\n",
    "\n",
    "# 10. Create a NumPy array representing daily temperatures for a month. Calculate and display the weekly averages."
   ]
  },
  {
   "cell_type": "code",
   "execution_count": 2,
   "metadata": {},
   "outputs": [
    {
     "data": {
      "text/plain": [
       "' NumPy (Numerical Python) is a library that adds support for large, multi-dimensional arrays and matrices, along with a collection of mathematical functions to operate on these arrays efficiently. It is widely used in scientific computing and data analysis due to several advantages:\\n\\nPerformance: NumPy arrays (ndarrays) are optimized for performance, especially for large-scale numerical computations, as they are implemented in C and Fortran, leading to faster execution.\\nMemory Efficiency: NumPy arrays are more memory-efficient than Python lists since they store elements in a contiguous block of memory, allowing for faster access and operations.\\nVectorized Operations: NumPy allows for element-wise operations on arrays without the need for explicit loops, leading to cleaner and more concise code.\\nBroad Functionality: NumPy offers a wide range of mathematical, statistical, and linear algebra functions, making it essential for data analysis, scientific computing, and machine learning.\\nIntegration: NumPy can interface with other libraries like pandas, SciPy, and TensorFlow, making it a foundation for many scientific and data analysis tools.'"
      ]
     },
     "execution_count": 2,
     "metadata": {},
     "output_type": "execute_result"
    }
   ],
   "source": [
    "# 1. Purpose and Advantages of NumPy in Scientific Computing and Data Analysis\n",
    "''' NumPy (Numerical Python) is a library that adds support for large, multi-dimensional arrays and matrices, along with a collection of mathematical functions to operate on these arrays efficiently. It is widely used in scientific computing and data analysis due to several advantages:\n",
    "\n",
    "Performance: NumPy arrays (ndarrays) are optimized for performance, especially for large-scale numerical computations, as they are implemented in C and Fortran, leading to faster execution.\n",
    "Memory Efficiency: NumPy arrays are more memory-efficient than Python lists since they store elements in a contiguous block of memory, allowing for faster access and operations.\n",
    "Vectorized Operations: NumPy allows for element-wise operations on arrays without the need for explicit loops, leading to cleaner and more concise code.\n",
    "Broad Functionality: NumPy offers a wide range of mathematical, statistical, and linear algebra functions, making it essential for data analysis, scientific computing, and machine learning.\n",
    "Integration: NumPy can interface with other libraries like pandas, SciPy, and TensorFlow, making it a foundation for many scientific and data analysis tools.'''"
   ]
  },
  {
   "cell_type": "code",
   "execution_count": 3,
   "metadata": {},
   "outputs": [
    {
     "name": "stdout",
     "output_type": "stream",
     "text": [
      "2.5\n"
     ]
    }
   ],
   "source": [
    "# 2. Comparison of np.mean() and np.average()\n",
    "'''np.mean(): This function calculates the arithmetic mean (average) of the elements along a given axis or for the entire array.'''\n",
    "import numpy as np\n",
    "arr = np.array([1, 2, 3, 4])\n",
    "print(np.mean(arr))  # Output: 2.5\n"
   ]
  },
  {
   "cell_type": "code",
   "execution_count": 6,
   "metadata": {},
   "outputs": [
    {
     "name": "stdout",
     "output_type": "stream",
     "text": [
      "2.5\n"
     ]
    }
   ],
   "source": [
    "# np.average(): While it also computes the mean, it allows for specifying weights for each element, which can be useful for weighted averages.\n",
    "weights = np.array([1,2,3,4]) \n",
    "print(np.average(weights))\n",
    "\n",
    "# When to use: Use np.mean() for standard arithmetic means, and np.average() when you need a weighted average. If no weights are provided, np.average() behaves like np.mean()."
   ]
  },
  {
   "cell_type": "code",
   "execution_count": 8,
   "metadata": {},
   "outputs": [
    {
     "data": {
      "text/plain": [
       "array([ 5,  6,  5, 43, 22])"
      ]
     },
     "execution_count": 8,
     "metadata": {},
     "output_type": "execute_result"
    }
   ],
   "source": [
    "# 3. Reversing a NumPy Array\n",
    "# To reverse a NumPy array, you can use slicing or specific functions for different axes.\n",
    "# Here's how you can do it:\n",
    "arr = np.array([22,43,5,6,5])\n",
    "reversed_array = arr[::-1]\n",
    "reversed_array"
   ]
  },
  {
   "cell_type": "code",
   "execution_count": 16,
   "metadata": {},
   "outputs": [
    {
     "data": {
      "text/plain": [
       "array([[2, 3],\n",
       "       [1, 2]])"
      ]
     },
     "execution_count": 16,
     "metadata": {},
     "output_type": "execute_result"
    }
   ],
   "source": [
    "# For a 2D array along different axes:\n",
    "arr_2d = np.array([[1,2],[2,3]])\n",
    "reversed_arr = arr_2d[::-1, :]\n",
    "reversed_arr"
   ]
  },
  {
   "cell_type": "code",
   "execution_count": 19,
   "metadata": {},
   "outputs": [
    {
     "name": "stdout",
     "output_type": "stream",
     "text": [
      "[[2 1]\n",
      " [3 2]]\n"
     ]
    }
   ],
   "source": [
    "# To reverse along columns:\n",
    "reversed_cols = arr_2d[:,::-1]\n",
    "print(reversed_cols)  # Output: [[2 1], [4 3]]\n"
   ]
  },
  {
   "cell_type": "code",
   "execution_count": 20,
   "metadata": {},
   "outputs": [
    {
     "data": {
      "text/plain": [
       "dtype('int32')"
      ]
     },
     "execution_count": 20,
     "metadata": {},
     "output_type": "execute_result"
    }
   ],
   "source": [
    "# 4. Determining the Data Type of Elements in a NumPy Array\n",
    "# You can determine the data type of elements in a NumPy array using the dtype attribute.\n",
    "arr = np.array([1,2,3,4,55])\n",
    "arr.dtype"
   ]
  },
  {
   "cell_type": "code",
   "execution_count": 21,
   "metadata": {},
   "outputs": [
    {
     "data": {
      "text/plain": [
       "dtype('float32')"
      ]
     },
     "execution_count": 21,
     "metadata": {},
     "output_type": "execute_result"
    }
   ],
   "source": [
    "arr = np.array([1,2,3,4,55], dtype=np.float32)\n",
    "arr.dtype"
   ]
  },
  {
   "cell_type": "code",
   "execution_count": 22,
   "metadata": {},
   "outputs": [],
   "source": [
    "# Importance of Data Types: Data types play a crucial role in memory management and performance. For example, using float64 requires more memory than float32, and using the wrong data type can lead to slower performance or overflow errors."
   ]
  },
  {
   "cell_type": "code",
   "execution_count": 23,
   "metadata": {},
   "outputs": [],
   "source": [
    "# 5. Defining ndarray and Key Features\n",
    "# An ndarray (n-dimensional array) is the core data structure of NumPy. Its key features include:\n",
    "\n",
    "# Homogeneous Data: All elements have the same data type, unlike Python lists which can hold mixed types.\n",
    "# N-Dimensional: It supports multi-dimensional arrays (1D, 2D, 3D, etc.).\n",
    "# Efficient Memory Layout: Elements are stored in contiguous memory blocks, making access and manipulation faster.\n",
    "# Broadcasting: Supports operations on arrays of different shapes.\n",
    "# Vectorization: Enables element-wise operations without loops. \n",
    "# Compared to Python lists, ndarray is more memory-efficient and faster, especially for numerical computations"
   ]
  },
  {
   "cell_type": "code",
   "execution_count": 24,
   "metadata": {},
   "outputs": [
    {
     "name": "stdout",
     "output_type": "stream",
     "text": [
      "NumPy array operation: 0.004983663558959961\n",
      "Python list operation: 0.16275858879089355\n"
     ]
    }
   ],
   "source": [
    "# 6. Performance Benefits of NumPy Arrays over Python Lists\n",
    "# NumPy arrays offer significant performance advantages over Python lists for large-scale numerical operations:\n",
    "\n",
    "# Memory Efficiency: NumPy arrays are more compact because they store data in a contiguous block of memory, while Python lists store pointers to objects.\n",
    "# Speed: Operations on NumPy arrays are faster because they are implemented in low-level languages like C.\n",
    "# Vectorized Operations: NumPy performs operations in a vectorized way, avoiding the overhead of Python loops.\n",
    "\n",
    "import time\n",
    "\n",
    "arr = np.arange(1000000)\n",
    "list_arr = list(range(1000000))\n",
    "\n",
    "start_time = time.time()\n",
    "arr * 2\n",
    "print(\"NumPy array operation:\", time.time() - start_time)\n",
    "\n",
    "start_time = time.time()\n",
    "[el * 2 for el in list_arr]\n",
    "print(\"Python list operation:\", time.time() - start_time)\n"
   ]
  },
  {
   "cell_type": "code",
   "execution_count": 25,
   "metadata": {},
   "outputs": [
    {
     "name": "stdout",
     "output_type": "stream",
     "text": [
      "[[1 2]\n",
      " [3 4]]\n"
     ]
    }
   ],
   "source": [
    "# 7. Comparison of vstack() and hstack()\n",
    "\n",
    "# vstack(): Vertically stacks arrays (along the first axis).\n",
    "arr1 = np.array([1, 2])\n",
    "arr2 = np.array([3, 4])\n",
    "print(np.vstack((arr1, arr2))) \n"
   ]
  },
  {
   "cell_type": "code",
   "execution_count": 26,
   "metadata": {},
   "outputs": [
    {
     "name": "stdout",
     "output_type": "stream",
     "text": [
      "[1 2 3 4]\n"
     ]
    }
   ],
   "source": [
    "# hstack(): Horizontally stacks arrays (along the second axis).\n",
    "print(np.hstack((arr1, arr2)))"
   ]
  },
  {
   "cell_type": "code",
   "execution_count": 27,
   "metadata": {},
   "outputs": [
    {
     "name": "stdout",
     "output_type": "stream",
     "text": [
      "[[2 1]\n",
      " [4 3]]\n"
     ]
    }
   ],
   "source": [
    "# 8. Differences between fliplr() and flipud()\n",
    "# fliplr(): Flips an array along its left-right (horizontal) axis.\n",
    "\n",
    "arr = np.array([[1, 2], [3, 4]])\n",
    "print(np.fliplr(arr)) "
   ]
  },
  {
   "cell_type": "code",
   "execution_count": 28,
   "metadata": {},
   "outputs": [
    {
     "name": "stdout",
     "output_type": "stream",
     "text": [
      "[[3 4]\n",
      " [1 2]]\n"
     ]
    }
   ],
   "source": [
    "# flipud(): Flips an array along its up-down (vertical) axis.\n",
    "\n",
    "\n",
    "print(np.flipud(arr)) "
   ]
  },
  {
   "cell_type": "code",
   "execution_count": 29,
   "metadata": {},
   "outputs": [
    {
     "name": "stdout",
     "output_type": "stream",
     "text": [
      "[array([1, 2]), array([3, 4]), array([5])]\n"
     ]
    }
   ],
   "source": [
    "# 9. Functionality of array_split()\n",
    "# The array_split() method splits an array into sub-arrays. It can handle uneven splits by allowing the last sub-array to have fewer elements.\n",
    "arr = np.array([1, 2, 3, 4, 5])\n",
    "print(np.array_split(arr, 3))\n"
   ]
  },
  {
   "cell_type": "code",
   "execution_count": 30,
   "metadata": {},
   "outputs": [
    {
     "name": "stdout",
     "output_type": "stream",
     "text": [
      "[2 4 6]\n"
     ]
    }
   ],
   "source": [
    "# 10. Vectorization and Broadcasting in NumPy\n",
    "# Vectorization: The process of performing operations on entire arrays at once without loops. This leads to more concise and faster code.\n",
    "arr = np.array([1, 2, 3])\n",
    "print(arr * 2)  \n",
    "\n"
   ]
  },
  {
   "cell_type": "code",
   "execution_count": 31,
   "metadata": {},
   "outputs": [
    {
     "name": "stdout",
     "output_type": "stream",
     "text": [
      "[[2 4 6]\n",
      " [5 7 9]]\n"
     ]
    }
   ],
   "source": [
    "# Broadcasting: Allows NumPy to perform operations on arrays of different shapes by stretching the smaller array across the larger one\n",
    "arr1 = np.array([[1, 2, 3], [4, 5, 6]])\n",
    "arr2 = np.array([1, 2, 3])\n",
    "print(arr1 + arr2) \n"
   ]
  },
  {
   "cell_type": "markdown",
   "metadata": {},
   "source": [
    "# Practical Questions\n"
   ]
  },
  {
   "cell_type": "code",
   "execution_count": 33,
   "metadata": {},
   "outputs": [
    {
     "data": {
      "text/plain": [
       "array([[63, 12, 76],\n",
       "       [44,  8,  3],\n",
       "       [77, 90, 22]])"
      ]
     },
     "execution_count": 33,
     "metadata": {},
     "output_type": "execute_result"
    }
   ],
   "source": [
    "#1. Creating a 3X3 Numpy array\n",
    "arr = np.random.randint(1,101, size = (3,3))\n",
    "arr"
   ]
  },
  {
   "cell_type": "code",
   "execution_count": 34,
   "metadata": {},
   "outputs": [
    {
     "data": {
      "text/plain": [
       "array([[63, 44, 77],\n",
       "       [12,  8, 90],\n",
       "       [76,  3, 22]])"
      ]
     },
     "execution_count": 34,
     "metadata": {},
     "output_type": "execute_result"
    }
   ],
   "source": [
    "#Inter changing the rows and cols\n",
    "arr.T"
   ]
  },
  {
   "cell_type": "code",
   "execution_count": 37,
   "metadata": {},
   "outputs": [
    {
     "data": {
      "text/plain": [
       "array([ 1,  2,  3,  4,  5,  6,  7,  8,  9, 10])"
      ]
     },
     "execution_count": 37,
     "metadata": {},
     "output_type": "execute_result"
    }
   ],
   "source": [
    "# 2.Generating a 1d Numpy array with 10 elements\n",
    "arr = np.arange(1,11)\n",
    "arr"
   ]
  },
  {
   "cell_type": "code",
   "execution_count": 38,
   "metadata": {},
   "outputs": [
    {
     "data": {
      "text/plain": [
       "array([[ 1,  2,  3,  4,  5],\n",
       "       [ 6,  7,  8,  9, 10]])"
      ]
     },
     "execution_count": 38,
     "metadata": {},
     "output_type": "execute_result"
    }
   ],
   "source": [
    "#Resahping array in 2x5 array\n",
    "arr_2x5 = arr.reshape(2,5)\n",
    "arr_2x5"
   ]
  },
  {
   "cell_type": "code",
   "execution_count": 39,
   "metadata": {},
   "outputs": [],
   "source": [
    "#Reshaping in 5x2 array\n",
    "arr_5x2 = arr.reshape(5,2)"
   ]
  },
  {
   "cell_type": "code",
   "execution_count": 42,
   "metadata": {},
   "outputs": [
    {
     "data": {
      "text/plain": [
       "array([[0.3940252 , 0.28008607, 0.35786618, 0.42747364],\n",
       "       [0.22137132, 0.02307408, 0.87457688, 0.28971151],\n",
       "       [0.86127291, 0.26112224, 0.26976939, 0.85211049],\n",
       "       [0.32173204, 0.84743511, 0.42490133, 0.31379436]])"
      ]
     },
     "execution_count": 42,
     "metadata": {},
     "output_type": "execute_result"
    }
   ],
   "source": [
    "#3 creating a 4x4 array with random float values\n",
    "arr = np.random.rand(4,4)\n",
    "arr\n",
    "\n"
   ]
  },
  {
   "cell_type": "code",
   "execution_count": 43,
   "metadata": {},
   "outputs": [
    {
     "data": {
      "text/plain": [
       "array([[0.        , 0.        , 0.        , 0.        , 0.        ,\n",
       "        0.        ],\n",
       "       [0.        , 0.3940252 , 0.28008607, 0.35786618, 0.42747364,\n",
       "        0.        ],\n",
       "       [0.        , 0.22137132, 0.02307408, 0.87457688, 0.28971151,\n",
       "        0.        ],\n",
       "       [0.        , 0.86127291, 0.26112224, 0.26976939, 0.85211049,\n",
       "        0.        ],\n",
       "       [0.        , 0.32173204, 0.84743511, 0.42490133, 0.31379436,\n",
       "        0.        ],\n",
       "       [0.        , 0.        , 0.        , 0.        , 0.        ,\n",
       "        0.        ]])"
      ]
     },
     "execution_count": 43,
     "metadata": {},
     "output_type": "execute_result"
    }
   ],
   "source": [
    "#Add a border of zeros around the array\n",
    "arr_border = np.pad(arr, pad_width=1, mode='constant', constant_values=0)\n",
    "arr_border"
   ]
  },
  {
   "cell_type": "code",
   "execution_count": 46,
   "metadata": {},
   "outputs": [
    {
     "data": {
      "text/plain": [
       "array([35, 16, 64, 55, 28])"
      ]
     },
     "execution_count": 46,
     "metadata": {},
     "output_type": "execute_result"
    }
   ],
   "source": [
    "#4. \n",
    "arr = np.random.randint(10,65, 5)\n",
    "arr"
   ]
  },
  {
   "cell_type": "code",
   "execution_count": 47,
   "metadata": {},
   "outputs": [
    {
     "data": {
      "text/plain": [
       "array(['python', 'numpy', 'pandas'], dtype='<U6')"
      ]
     },
     "execution_count": 47,
     "metadata": {},
     "output_type": "execute_result"
    }
   ],
   "source": [
    "# 5. Creating an array of string['python','numpy',pandas,]\n",
    "array = np.array(['python','numpy','pandas']) \n",
    "array"
   ]
  },
  {
   "cell_type": "code",
   "execution_count": 49,
   "metadata": {},
   "outputs": [
    {
     "name": "stdout",
     "output_type": "stream",
     "text": [
      "Upper case:  ['PYTHON' 'NUMPY' 'PANDAS']\n",
      "Lower case:  ['python' 'numpy' 'pandas']\n",
      "Title case:  ['Python' 'Numpy' 'Pandas']\n"
     ]
    }
   ],
   "source": [
    "#Upper case\n",
    "print(\"Upper case: \", np.char.upper(array))\n",
    "\n",
    "#lowercase\n",
    "print(\"Lower case: \", np.char.lower(array))\n",
    "\n",
    "#Title case\n",
    "print(\"Title case: \", np.char.title(array))\n",
    "\n"
   ]
  },
  {
   "cell_type": "code",
   "execution_count": 50,
   "metadata": {},
   "outputs": [
    {
     "name": "stdout",
     "output_type": "stream",
     "text": [
      "['p y t h o n' 'n u m p y' 'p a n d a s']\n"
     ]
    }
   ],
   "source": [
    "#6. Inserting a space betweem each character of every word\n",
    "spaced_arr = np.char.join(\" \", array)\n",
    "print(spaced_arr)  "
   ]
  },
  {
   "cell_type": "code",
   "execution_count": 51,
   "metadata": {},
   "outputs": [
    {
     "name": "stdout",
     "output_type": "stream",
     "text": [
      "Addition Result:\n",
      " [[3 4]\n",
      " [7 8]]\n",
      "Subtraction Result:\n",
      " [[-1  0]\n",
      " [-1  0]]\n",
      "Multiplication Result:\n",
      " [[ 2  4]\n",
      " [12 16]]\n",
      "Division Result:\n",
      " [[0.5  1.  ]\n",
      " [0.75 1.  ]]\n"
     ]
    }
   ],
   "source": [
    "#7. element wise operation on 2d arrays\n",
    "arr1 = np.array([[1,2],[3,4]])\n",
    "arr2 = np.array([[2,2],[4,4]])\n",
    "\n",
    "# Element-wise addition\n",
    "add_result = arr1 + arr2\n",
    "\n",
    "# Element-wise subtraction\n",
    "sub_result = arr1 - arr2\n",
    "\n",
    "# Element-wise multiplication\n",
    "mul_result = arr1 * arr2\n",
    "\n",
    "# Element-wise division\n",
    "div_result = arr1 / arr2\n",
    "\n",
    "print(\"Addition Result:\\n\", add_result)\n",
    "print(\"Subtraction Result:\\n\", sub_result)\n",
    "print(\"Multiplication Result:\\n\", mul_result)\n",
    "print(\"Division Result:\\n\", div_result)"
   ]
  },
  {
   "cell_type": "code",
   "execution_count": 52,
   "metadata": {},
   "outputs": [
    {
     "name": "stdout",
     "output_type": "stream",
     "text": [
      "[[1. 0. 0. 0. 0.]\n",
      " [0. 1. 0. 0. 0.]\n",
      " [0. 0. 1. 0. 0.]\n",
      " [0. 0. 0. 1. 0.]\n",
      " [0. 0. 0. 0. 1.]]\n"
     ]
    }
   ],
   "source": [
    "#8. Creating a 5x5 identity matrix\n",
    "identity_matrix = np.eye(5)\n",
    "\n",
    "#Extract the diagonal element\n",
    "diagonal_element = np.diag(identity_matrix)\n",
    "\n",
    "print(identity_matrix)"
   ]
  },
  {
   "cell_type": "code",
   "execution_count": 53,
   "metadata": {},
   "outputs": [
    {
     "name": "stdout",
     "output_type": "stream",
     "text": [
      "[1. 1. 1. 1. 1.]\n"
     ]
    }
   ],
   "source": [
    "print(diagonal_element)"
   ]
  },
  {
   "cell_type": "code",
   "execution_count": 59,
   "metadata": {},
   "outputs": [
    {
     "name": "stdout",
     "output_type": "stream",
     "text": [
      "Array of Random Intigets :  [433 520 343  57 483 769 970  52 339 890 433 671 196  89  84 773 370 369\n",
      " 673  75 946 460  97 354 210 838 187 844 811 172 798 187 486 865 310 446\n",
      " 429 924 476 173 358 782 971 676 160 972 604 857 892 969 569 515 443 594\n",
      " 794 997 859 598 308 584  51 372 820 398 204 324 494 372 792 811  63 211\n",
      " 241 426  31 423 606 714 841 846 394 205 380 512 604 384 149 254 420  97\n",
      " 385 879 557 214 937 381 793 438 981 895]\n",
      "\n",
      "Prime Numbers in the Array :  [433 769 433  89 773 673  97 811 173 971 857 569 443 997 859 811 211 241\n",
      "  31 149  97 557 937]\n"
     ]
    }
   ],
   "source": [
    "#9. Generating an array of 100 random intigers between 0 an 1000\n",
    "import sympy\n",
    "arr = np.random.randint(0, 1000, 100)\n",
    "\n",
    "#Check for prime numbers\n",
    "prime = np.array([num for num in arr if sympy.isprime(num)])\n",
    "\n",
    "print(\"Array of Random Intigets : \", arr)\n",
    "\n",
    "print(\"\\nPrime Numbers in the Array : \", prime)"
   ]
  },
  {
   "cell_type": "code",
   "execution_count": 66,
   "metadata": {},
   "outputs": [
    {
     "name": "stdout",
     "output_type": "stream",
     "text": [
      "Daily temp for 4 weeks :  [[74 97 87 74 81 97 92]\n",
      " [93 73 70 98 79 87 93]\n",
      " [92 67 90 75 72 70 71]\n",
      " [63 68 83 65 62 72 75]]\n",
      "\n",
      "Weekly average : [86.         84.71428571 76.71428571 69.71428571]\n"
     ]
    }
   ],
   "source": [
    "#10. Calculate weakly average of daily tempratures of a month\n",
    "\n",
    "#generate an array of daily temp for 30 days\n",
    "daily_temp = np.random.randint(60, 100,28) #Random temp between 50 degreee F to 100 F\n",
    "\n",
    "#reshaping the array to 4 weeks\n",
    "weekly_tmp = daily_temp[:28].reshape(4,7)\n",
    "\n",
    "#Calaculating the weakly average\n",
    "weekly_avg = np.mean(weekly_tmp, axis=1)\n",
    "\n",
    "print(\"Daily temp for 4 weeks : \", weekly_tmp)\n",
    "print(\"\\nWeekly average :\", weekly_avg)"
   ]
  },
  {
   "cell_type": "code",
   "execution_count": null,
   "metadata": {},
   "outputs": [],
   "source": []
  }
 ],
 "metadata": {
  "kernelspec": {
   "display_name": "base",
   "language": "python",
   "name": "python3"
  },
  "language_info": {
   "codemirror_mode": {
    "name": "ipython",
    "version": 3
   },
   "file_extension": ".py",
   "mimetype": "text/x-python",
   "name": "python",
   "nbconvert_exporter": "python",
   "pygments_lexer": "ipython3",
   "version": "3.11.5"
  }
 },
 "nbformat": 4,
 "nbformat_minor": 2
}
